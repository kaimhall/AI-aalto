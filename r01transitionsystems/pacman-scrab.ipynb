{
 "cells": [
  {
   "cell_type": "code",
   "execution_count": 9,
   "metadata": {},
   "outputs": [
    {
     "name": "stdout",
     "output_type": "stream",
     "text": [
      "['......', '.XX.X.', '......']\n"
     ]
    }
   ],
   "source": [
    "grid =[\n",
    "    \"......\",\n",
    "    \".XX.X.\",\n",
    "    \"......\"\n",
    "    ]\n",
    "\n",
    "print(grid)"
   ]
  },
  {
   "cell_type": "code",
   "execution_count": 18,
   "metadata": {},
   "outputs": [
    {
     "name": "stdout",
     "output_type": "stream",
     "text": [
      ".\n",
      ".\n",
      ".\n",
      ".\n",
      ".\n",
      ".\n",
      ".\n",
      "X\n",
      "X\n",
      ".\n",
      "X\n",
      ".\n",
      ".\n",
      ".\n",
      ".\n",
      ".\n",
      ".\n",
      ".\n"
     ]
    }
   ],
   "source": [
    "for i in range(len(grid)):\n",
    "  for j in range(len(grid[0])):\n",
    "    print(grid[i][j])"
   ]
  },
  {
   "cell_type": "code",
   "execution_count": 42,
   "metadata": {},
   "outputs": [],
   "source": [
    "states = []\n",
    "states.append((3 , 'a'))\n",
    "\n",
    "u = (3,'b')\n",
    "if not any(i == u[0] for (i,j) in states):\n",
    "  states.append(u)"
   ]
  },
  {
   "cell_type": "code",
   "execution_count": 46,
   "metadata": {},
   "outputs": [],
   "source": [
    "class PacManState:\n",
    "\tdef __init__(self, x, y, direction, grid):\n",
    "\t\tself.x = x\n",
    "\t\tself.y = y\n",
    "\t\tself.d = direction\n",
    "\t\tself.grid = grid\n",
    "\t\n",
    "\tdef __eq__(self, other):\n",
    "\t\treturn (self.x == other.x) and (self.y == other.y) and (self.d == other.d)\n"
   ]
  },
  {
   "cell_type": "code",
   "execution_count": 69,
   "metadata": {},
   "outputs": [
    {
     "data": {
      "text/plain": [
       "False"
      ]
     },
     "execution_count": 69,
     "metadata": {},
     "output_type": "execute_result"
    }
   ],
   "source": [
    "a = PacManState(0,0,'N', grid)\n",
    "b = PacManState(0,0,'E', grid)\n",
    "\n",
    "a.__eq__(b)"
   ]
  },
  {
   "cell_type": "code",
   "execution_count": 71,
   "metadata": {},
   "outputs": [
    {
     "data": {
      "text/plain": [
       "False"
      ]
     },
     "execution_count": 71,
     "metadata": {},
     "output_type": "execute_result"
    }
   ],
   "source": [
    "ret = (3,a)\n",
    "lst = [(3,b)]\n",
    "\n",
    "any(ret[1].__eq__(j) for (i,j) in lst)"
   ]
  },
  {
   "cell_type": "code",
   "execution_count": 73,
   "metadata": {},
   "outputs": [
    {
     "data": {
      "text/plain": [
       "False"
      ]
     },
     "execution_count": 73,
     "metadata": {},
     "output_type": "execute_result"
    }
   ],
   "source": []
  }
 ],
 "metadata": {
  "kernelspec": {
   "display_name": "datascience",
   "language": "python",
   "name": "python3"
  },
  "language_info": {
   "codemirror_mode": {
    "name": "ipython",
    "version": 3
   },
   "file_extension": ".py",
   "mimetype": "text/x-python",
   "name": "python",
   "nbconvert_exporter": "python",
   "pygments_lexer": "ipython3",
   "version": "3.10.8"
  },
  "orig_nbformat": 4,
  "vscode": {
   "interpreter": {
    "hash": "e1820ce690133e6e3e3e3739ae9443fae06da38607d64209d7263868de58e9b7"
   }
  }
 },
 "nbformat": 4,
 "nbformat_minor": 2
}
