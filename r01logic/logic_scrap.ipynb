{
 "cells": [
  {
   "cell_type": "code",
   "execution_count": 63,
   "metadata": {},
   "outputs": [],
   "source": [
    "import itertools\n",
    "import numpy as np"
   ]
  },
  {
   "attachments": {},
   "cell_type": "markdown",
   "metadata": {},
   "source": [
    "Recursive PowerSet - set that contains all subsets of a given set"
   ]
  },
  {
   "attachments": {},
   "cell_type": "markdown",
   "metadata": {},
   "source": [
    "recursive idea - ['a', 'b']\n",
    "<br>\n",
    "{} = [[]] <br>\n",
    "{'a'} = {[], ['a]}<br>\n",
    "{'a', 'b'} = = {['a'], ['b'], ['a','b']}\n",
    "\n",
    "*expansion of set <br>\n",
    "*len(powerSet(L)) == 2**len(L)"
   ]
  },
  {
   "cell_type": "code",
   "execution_count": 50,
   "metadata": {},
   "outputs": [],
   "source": [
    "def powerSet(l):\n",
    "  if len(l) == 0:\n",
    "    return [[]] # base case is empty list\n",
    "  \n",
    "  else:\n",
    "    base = powerSet(l[:-1]) #  send smaller list as recursive call\n",
    "    operator = l[-1:]\n",
    "    next_base = base[:]\n",
    "    return base + [(b + operator) for b in base] # communicate frame to future frames"
   ]
  },
  {
   "cell_type": "code",
   "execution_count": 76,
   "metadata": {},
   "outputs": [
    {
     "data": {
      "text/plain": [
       "0.5"
      ]
     },
     "execution_count": 76,
     "metadata": {},
     "output_type": "execute_result"
    }
   ],
   "source": [
    "np.mean([True, False])"
   ]
  },
  {
   "cell_type": "code",
   "execution_count": 79,
   "metadata": {},
   "outputs": [
    {
     "data": {
      "text/plain": [
       "[[], ['a'], ['b'], ['a', 'b'], ['c'], ['a', 'c'], ['b', 'c'], ['a', 'b', 'c']]"
      ]
     },
     "execution_count": 79,
     "metadata": {},
     "output_type": "execute_result"
    }
   ],
   "source": [
    "l = ['a', 'b','c']\n",
    "ps = powerSet((l))\n",
    "ps"
   ]
  },
  {
   "cell_type": "code",
   "execution_count": 82,
   "metadata": {},
   "outputs": [],
   "source": [
    "def tvals(s, v):\n",
    "  return [item for item in v if item == s][0]"
   ]
  },
  {
   "cell_type": "code",
   "execution_count": 83,
   "metadata": {},
   "outputs": [
    {
     "data": {
      "text/plain": [
       "['a', 'b']"
      ]
     },
     "execution_count": 83,
     "metadata": {},
     "output_type": "execute_result"
    }
   ],
   "source": [
    "tvals(['a','b'], ps)"
   ]
  }
 ],
 "metadata": {
  "kernelspec": {
   "display_name": "datascience",
   "language": "python",
   "name": "python3"
  },
  "language_info": {
   "codemirror_mode": {
    "name": "ipython",
    "version": 3
   },
   "file_extension": ".py",
   "mimetype": "text/x-python",
   "name": "python",
   "nbconvert_exporter": "python",
   "pygments_lexer": "ipython3",
   "version": "3.10.8"
  },
  "orig_nbformat": 4,
  "vscode": {
   "interpreter": {
    "hash": "e1820ce690133e6e3e3e3739ae9443fae06da38607d64209d7263868de58e9b7"
   }
  }
 },
 "nbformat": 4,
 "nbformat_minor": 2
}
